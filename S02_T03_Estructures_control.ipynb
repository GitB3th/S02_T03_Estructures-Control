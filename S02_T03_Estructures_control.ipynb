{
 "cells": [
  {
   "cell_type": "markdown",
   "id": "10c41444",
   "metadata": {},
   "source": [
    "# S02_T03_Estructures_de_Control\n",
    "\n",
    "### Ex1:Crear un programa que et classifiqui una variable numèrica en funció de l’escala Suspès/Aprovat/Notable/Excel·lent"
   ]
  },
  {
   "cell_type": "code",
   "execution_count": 6,
   "id": "a8d98f8a",
   "metadata": {
    "ExecuteTime": {
     "end_time": "2022-02-22T10:50:37.017020Z",
     "start_time": "2022-02-22T10:50:33.680835Z"
    }
   },
   "outputs": [
    {
     "name": "stdout",
     "output_type": "stream",
     "text": [
      "Entra nota: 10\n",
      "La nota: 10 és un excel·lent\n"
     ]
    }
   ],
   "source": [
    "nota = int(input(\"Entra nota: \"))\n",
    "if nota < 0 or nota >10:\n",
    "    print(\"Error: La nota ha de ser un valor entre 0 i 10\")\n",
    "elif nota >=0 and nota <5:\n",
    "    print(\"La nota: \" + str(nota) + \" és un suspens\")\n",
    "elif nota >= 5 and nota<7:\n",
    "    print(\"La nota: \" + str(nota) + \" és un aprovat\")\n",
    "elif nota >= 7 and nota<9:\n",
    "    print(\"La nota: \" + str(nota) + \" és un notable\")\n",
    "else:\n",
    "    print(\"La nota: \" + str(nota) + \" és un excel·lent\")"
   ]
  },
  {
   "cell_type": "markdown",
   "id": "b900ec28",
   "metadata": {},
   "source": [
    "### Ex2: Utilitzant el següent tutorial Programiz: Python Input, Output and Import crea un programa que et pregunti dos números. T’ha de mostrar un missatge dient si el primer és més gran, el segon és més gran o són iguals"
   ]
  },
  {
   "cell_type": "code",
   "execution_count": 6,
   "id": "b62f942a",
   "metadata": {
    "ExecuteTime": {
     "end_time": "2022-02-22T09:02:45.868590Z",
     "start_time": "2022-02-22T09:02:40.556229Z"
    }
   },
   "outputs": [
    {
     "name": "stdout",
     "output_type": "stream",
     "text": [
      "Enter one num: 88\n",
      "Enter another num: 2\n",
      "El primer nombre 88 és més gran\n"
     ]
    }
   ],
   "source": [
    "num_1 = input(\"Enter one num: \")\n",
    "num_2 = input(\"Enter another num: \")\n",
    "if (num_1 != num_2 and num_1 > num_2):\n",
    "    print(\"El primer nombre \" + str(num_1) + \" és més gran\")\n",
    "elif (num_1 == num_2):\n",
    "    print(\"Els dos nombres són iguals\")\n",
    "else:\n",
    "    print(\"El segon nombre \" + str(num_2) + \" és més gran\")\n",
    "    \n",
    "    "
   ]
  },
  {
   "cell_type": "markdown",
   "id": "20edf739",
   "metadata": {},
   "source": [
    "### Ex3: Crea un programa que et pregunti el teu nom, i et demani un número. Si el número és 0, hauria de mostrar un missatge d’error. En cas contrari, hauria de mostrar el nom repetit tants cops com indiqui el número. Per exemple, “Joan Joan Joan”"
   ]
  },
  {
   "cell_type": "code",
   "execution_count": 19,
   "id": "f7f94614",
   "metadata": {
    "ExecuteTime": {
     "end_time": "2022-02-22T09:51:49.974211Z",
     "start_time": "2022-02-22T09:51:45.862190Z"
    }
   },
   "outputs": [
    {
     "name": "stdout",
     "output_type": "stream",
     "text": [
      "Enter your name: Beth\n",
      "Enter one num: 4\n",
      "['Beth', 'Beth', 'Beth', 'Beth']\n"
     ]
    }
   ],
   "source": [
    "nom = input(\"Enter your name: \")\n",
    "num = int(input(\"Enter one num: \"))\n",
    "message_list=[]\n",
    "if (num == 0):\n",
    "    print(\"Error: el nombre ha de ser >0\")\n",
    "else:\n",
    "    for x in range(num):\n",
    "        message_list.append(nom)\n",
    "print(message_list)"
   ]
  },
  {
   "cell_type": "markdown",
   "id": "487768f8",
   "metadata": {},
   "source": [
    "### Ex4: Crea un programa que donada una llista qualsevol, et digui si es simètrica o no. Si ho és, que et digui quants elements té"
   ]
  },
  {
   "cell_type": "code",
   "execution_count": 25,
   "id": "e9cf7349",
   "metadata": {
    "ExecuteTime": {
     "end_time": "2022-02-22T10:04:42.365212Z",
     "start_time": "2022-02-22T10:04:42.346262Z"
    }
   },
   "outputs": [
    {
     "name": "stdout",
     "output_type": "stream",
     "text": [
      "La llista [2, 8, 6, 2, 3, 8, 5] no és simètrica\n"
     ]
    }
   ],
   "source": [
    "list = [2, 8, 6, 2, 3, 8, 5]\n",
    "if (len(list)%2 == 0):\n",
    "    print(\"La llista \" + str(list) + \" és simètrica, i té \" + str(len(list)) + \" elements\")\n",
    "else:\n",
    "    print(\"La llista \" + str(list) + \" no és simètrica\")\n",
    "    "
   ]
  },
  {
   "cell_type": "markdown",
   "id": "bdd09c68",
   "metadata": {},
   "source": [
    "### Ex5: Crea un programa que donada una llista, et digui quants números coincideixen amb la seva posició. Per exemple [3,4,2,0,2,3,6] el 2 i el 6 coincideixen"
   ]
  },
  {
   "cell_type": "code",
   "execution_count": null,
   "id": "1c07c5d3",
   "metadata": {
    "ExecuteTime": {
     "start_time": "2022-02-22T10:40:22.586Z"
    }
   },
   "outputs": [],
   "source": [
    "list = [0, 3, 2, 4, 8, 9, 6, 7]\n",
    "for x in list:\n",
    "    if (x == list.index(x)):\n",
    "        print(x)"
   ]
  }
 ],
 "metadata": {
  "kernelspec": {
   "display_name": "Python 3 (ipykernel)",
   "language": "python",
   "name": "python3"
  },
  "language_info": {
   "codemirror_mode": {
    "name": "ipython",
    "version": 3
   },
   "file_extension": ".py",
   "mimetype": "text/x-python",
   "name": "python",
   "nbconvert_exporter": "python",
   "pygments_lexer": "ipython3",
   "version": "3.9.7"
  },
  "latex_envs": {
   "LaTeX_envs_menu_present": true,
   "autoclose": false,
   "autocomplete": true,
   "bibliofile": "biblio.bib",
   "cite_by": "apalike",
   "current_citInitial": 1,
   "eqLabelWithNumbers": true,
   "eqNumInitial": 1,
   "hotkeys": {
    "equation": "Ctrl-E",
    "itemize": "Ctrl-I"
   },
   "labels_anchors": false,
   "latex_user_defs": false,
   "report_style_numbering": false,
   "user_envs_cfg": false
  }
 },
 "nbformat": 4,
 "nbformat_minor": 5
}
